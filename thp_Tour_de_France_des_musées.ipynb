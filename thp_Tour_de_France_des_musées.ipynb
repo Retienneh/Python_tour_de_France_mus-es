{
 "cells": [
  {
   "cell_type": "markdown",
   "id": "34e4a8fb",
   "metadata": {},
   "source": [
    "# Le tour de France des musées !\n"
   ]
  },
  {
   "cell_type": "code",
   "execution_count": null,
   "id": "1741be58",
   "metadata": {},
   "outputs": [],
   "source": []
  },
  {
   "cell_type": "markdown",
   "id": "69285fea",
   "metadata": {},
   "source": [
    "## 1) Télécharger le fichier CSV et l'ouvrir sur le notebook"
   ]
  },
  {
   "cell_type": "code",
   "execution_count": 2,
   "id": "d8ae891f",
   "metadata": {},
   "outputs": [],
   "source": [
    "import pandas as pd"
   ]
  },
  {
   "cell_type": "code",
   "execution_count": 13,
   "id": "835a857b",
   "metadata": {},
   "outputs": [
    {
     "data": {
      "text/html": [
       "<div>\n",
       "<style scoped>\n",
       "    .dataframe tbody tr th:only-of-type {\n",
       "        vertical-align: middle;\n",
       "    }\n",
       "\n",
       "    .dataframe tbody tr th {\n",
       "        vertical-align: top;\n",
       "    }\n",
       "\n",
       "    .dataframe thead th {\n",
       "        text-align: right;\n",
       "    }\n",
       "</style>\n",
       "<table border=\"1\" class=\"dataframe\">\n",
       "  <thead>\n",
       "    <tr style=\"text-align: right;\">\n",
       "      <th></th>\n",
       "      <th>osm_id</th>\n",
       "      <th>name</th>\n",
       "      <th>number</th>\n",
       "      <th>street</th>\n",
       "      <th>postal_code</th>\n",
       "      <th>city</th>\n",
       "      <th>country</th>\n",
       "      <th>country_code</th>\n",
       "      <th>lat</th>\n",
       "      <th>lon</th>\n",
       "      <th>website</th>\n",
       "      <th>email</th>\n",
       "      <th>phone</th>\n",
       "      <th>fax</th>\n",
       "      <th>tags</th>\n",
       "      <th>description</th>\n",
       "      <th>date_added</th>\n",
       "      <th>wikidata</th>\n",
       "    </tr>\n",
       "  </thead>\n",
       "  <tbody>\n",
       "    <tr>\n",
       "      <th>0</th>\n",
       "      <td>4540234591</td>\n",
       "      <td>3 bis f</td>\n",
       "      <td>109</td>\n",
       "      <td>Avenue du Petit Barthélémy</td>\n",
       "      <td>13617.0</td>\n",
       "      <td>Aix-en-Provence</td>\n",
       "      <td>France</td>\n",
       "      <td>fr</td>\n",
       "      <td>43.521207</td>\n",
       "      <td>5.439875</td>\n",
       "      <td>http://www.3bisf.com</td>\n",
       "      <td>contact@3bisf.com</td>\n",
       "      <td>3.344216e+10</td>\n",
       "      <td>NaN</td>\n",
       "      <td>osm:museum;art:art contemporain</td>\n",
       "      <td>NaN</td>\n",
       "      <td>44116,0076388889</td>\n",
       "      <td>NaN</td>\n",
       "    </tr>\n",
       "    <tr>\n",
       "      <th>1</th>\n",
       "      <td>4388745689</td>\n",
       "      <td>A casa di Losari</td>\n",
       "      <td>NaN</td>\n",
       "      <td>T 30</td>\n",
       "      <td>20226.0</td>\n",
       "      <td>Belgodère</td>\n",
       "      <td>France</td>\n",
       "      <td>fr</td>\n",
       "      <td>42.638732</td>\n",
       "      <td>9.007660</td>\n",
       "      <td>NaN</td>\n",
       "      <td>NaN</td>\n",
       "      <td>NaN</td>\n",
       "      <td>NaN</td>\n",
       "      <td>osm:museum</td>\n",
       "      <td>NaN</td>\n",
       "      <td>43338,9393981481</td>\n",
       "      <td>NaN</td>\n",
       "    </tr>\n",
       "    <tr>\n",
       "      <th>2</th>\n",
       "      <td>4426176194</td>\n",
       "      <td>À l'homme volant</td>\n",
       "      <td>35</td>\n",
       "      <td>Grande Rue</td>\n",
       "      <td>72300.0</td>\n",
       "      <td>Sablé-sur-Sarthe</td>\n",
       "      <td>France</td>\n",
       "      <td>fr</td>\n",
       "      <td>47.839656</td>\n",
       "      <td>-0.334043</td>\n",
       "      <td>NaN</td>\n",
       "      <td>NaN</td>\n",
       "      <td>3.324395e+10</td>\n",
       "      <td>NaN</td>\n",
       "      <td>osm:museum;type:centre d'interpretation</td>\n",
       "      <td>NaN</td>\n",
       "      <td>42644,4636574074</td>\n",
       "      <td>NaN</td>\n",
       "    </tr>\n",
       "    <tr>\n",
       "      <th>3</th>\n",
       "      <td>7652598615</td>\n",
       "      <td>Abbadiale - Maison des arts</td>\n",
       "      <td>NaN</td>\n",
       "      <td>Rue du Gabizos</td>\n",
       "      <td>65400.0</td>\n",
       "      <td>Arras-en-Lavedan</td>\n",
       "      <td>France</td>\n",
       "      <td>fr</td>\n",
       "      <td>42.990826</td>\n",
       "      <td>-0.128057</td>\n",
       "      <td>https://www.abbadiale.fr/</td>\n",
       "      <td>NaN</td>\n",
       "      <td>3.363317e+10</td>\n",
       "      <td>NaN</td>\n",
       "      <td>osm:museum</td>\n",
       "      <td>NaN</td>\n",
       "      <td>44120,0466782407</td>\n",
       "      <td>NaN</td>\n",
       "    </tr>\n",
       "    <tr>\n",
       "      <th>4</th>\n",
       "      <td>121580330</td>\n",
       "      <td>Abbaye</td>\n",
       "      <td>NaN</td>\n",
       "      <td>Rue de l'Abbaye</td>\n",
       "      <td>39210.0</td>\n",
       "      <td>Château-Chalon</td>\n",
       "      <td>France</td>\n",
       "      <td>fr</td>\n",
       "      <td>46.753866</td>\n",
       "      <td>5.624296</td>\n",
       "      <td>NaN</td>\n",
       "      <td>NaN</td>\n",
       "      <td>NaN</td>\n",
       "      <td>NaN</td>\n",
       "      <td>osm:museum;art:architecture</td>\n",
       "      <td>NaN</td>\n",
       "      <td>43102,5491898148</td>\n",
       "      <td>NaN</td>\n",
       "    </tr>\n",
       "  </tbody>\n",
       "</table>\n",
       "</div>"
      ],
      "text/plain": [
       "       osm_id                         name number                      street  \\\n",
       "0  4540234591                      3 bis f    109  Avenue du Petit Barthélémy   \n",
       "1  4388745689             A casa di Losari    NaN                        T 30   \n",
       "2  4426176194             À l'homme volant     35                  Grande Rue   \n",
       "3  7652598615  Abbadiale - Maison des arts    NaN              Rue du Gabizos   \n",
       "4   121580330                       Abbaye    NaN             Rue de l'Abbaye   \n",
       "\n",
       "   postal_code              city country country_code        lat       lon  \\\n",
       "0      13617.0   Aix-en-Provence  France           fr  43.521207  5.439875   \n",
       "1      20226.0         Belgodère  France           fr  42.638732  9.007660   \n",
       "2      72300.0  Sablé-sur-Sarthe  France           fr  47.839656 -0.334043   \n",
       "3      65400.0  Arras-en-Lavedan  France           fr  42.990826 -0.128057   \n",
       "4      39210.0    Château-Chalon  France           fr  46.753866  5.624296   \n",
       "\n",
       "                     website              email         phone  fax  \\\n",
       "0       http://www.3bisf.com  contact@3bisf.com  3.344216e+10  NaN   \n",
       "1                        NaN                NaN           NaN  NaN   \n",
       "2                        NaN                NaN  3.324395e+10  NaN   \n",
       "3  https://www.abbadiale.fr/                NaN  3.363317e+10  NaN   \n",
       "4                        NaN                NaN           NaN  NaN   \n",
       "\n",
       "                                      tags description        date_added  \\\n",
       "0          osm:museum;art:art contemporain         NaN  44116,0076388889   \n",
       "1                               osm:museum         NaN  43338,9393981481   \n",
       "2  osm:museum;type:centre d'interpretation         NaN  42644,4636574074   \n",
       "3                               osm:museum         NaN  44120,0466782407   \n",
       "4              osm:museum;art:architecture         NaN  43102,5491898148   \n",
       "\n",
       "  wikidata  \n",
       "0      NaN  \n",
       "1      NaN  \n",
       "2      NaN  \n",
       "3      NaN  \n",
       "4      NaN  "
      ]
     },
     "execution_count": 13,
     "metadata": {},
     "output_type": "execute_result"
    }
   ],
   "source": [
    "data_csv = pd.read_csv('liste-des-musees-de-france-2021.csv', encoding='latin-1', delimiter=\";\")\n",
    "data_csv.head()"
   ]
  },
  {
   "cell_type": "code",
   "execution_count": null,
   "id": "5d20fdef",
   "metadata": {},
   "outputs": [],
   "source": []
  },
  {
   "cell_type": "markdown",
   "id": "38023706",
   "metadata": {},
   "source": [
    "# 2) Répondre aux questions du manager : \n",
    "\n",
    "- Combien y-a-t-il de musées en France métropolitaine ?\n",
    "- Dans quelle(s) ville(s) y-a-t-il de plus de musées ?\n",
    "- Quel est le nombre moyen de musées par ville ?\n",
    "- Quel est le nombre médian de musées par ville ?\n",
    "- Comment sont répartis les musées par type (en pourcentage) ?\n",
    "- Combien y-a-t-il de musées dont le nom commence par \"Château\" ?\n",
    "- Pour combien de musées dispose-t-on de l'adresse du site web ?\n",
    "- Quel département français possède le plus de musées sur son territoire ?\n",
    "- Quel département français possède le moins de musées sur son territoire ?\n",
    "- Combien de musées ont \"Napoléon\" dans leur nom ?\n"
   ]
  },
  {
   "cell_type": "code",
   "execution_count": 16,
   "id": "f4d040bb",
   "metadata": {},
   "outputs": [
    {
     "name": "stdout",
     "output_type": "stream",
     "text": [
      "Il y a  3784 musées en France métropolitaine.\n",
      "(3784, 18)\n"
     ]
    }
   ],
   "source": [
    "# Combien y-a-t-il de musées en France métropolitaine ?\n",
    "dim = data_csv.shape\n",
    "print(\"Il y a \", dim[0], \"musées en France métropolitaine.\")"
   ]
  },
  {
   "cell_type": "code",
   "execution_count": 26,
   "id": "959f8eab",
   "metadata": {},
   "outputs": [
    {
     "name": "stdout",
     "output_type": "stream",
     "text": [
      "La ville avec le plus de musées est :  Paris\n"
     ]
    }
   ],
   "source": [
    "# Dans quelle(s) ville(s) y-a-t-il de plus de musées ?\n",
    "\n",
    "musees_par_ville = data_csv.groupby('city') # Groupement des musées par ville\n",
    "\n",
    "nombre_musees_par_ville = musees_par_ville['osm_id'].count() # Comptage du nombre de musées par ville\n",
    "\n",
    "nombre_musees_par_ville = nombre_musees_par_ville.sort_values(ascending=False) # Triage par ordre décroissant\n",
    "\n",
    "ville_plus_de_musees = nombre_musees_par_ville.index[0] # Ville avec le plus grand nombre de musées\n",
    "\n",
    "print(\"La ville avec le plus de musées est : \", ville_plus_de_musees)"
   ]
  },
  {
   "cell_type": "code",
   "execution_count": 31,
   "id": "2c42af0c",
   "metadata": {},
   "outputs": [
    {
     "name": "stdout",
     "output_type": "stream",
     "text": [
      "Le nombre moyen de musées par ville est :  1.647930283224401\n"
     ]
    }
   ],
   "source": [
    "# Quel est le nombre moyen de musées par ville ?\n",
    "\n",
    "nombre_musees_par_ville_array = nombre_musees_par_ville\n",
    "print(\"Le nombre moyen de musées par ville est : \", nombre_musees_par_ville_array.mean())"
   ]
  },
  {
   "cell_type": "code",
   "execution_count": 32,
   "id": "1656d9a7",
   "metadata": {},
   "outputs": [
    {
     "name": "stdout",
     "output_type": "stream",
     "text": [
      "Le nombre moyen de musées par ville est :  1.0\n"
     ]
    }
   ],
   "source": [
    "# Quel est le nombre médian de musées par ville ?\n",
    "\n",
    "print(\"Le nombre moyen de musées par ville est : \", nombre_musees_par_ville_array.median())"
   ]
  },
  {
   "cell_type": "code",
   "execution_count": 44,
   "id": "5c2059dd",
   "metadata": {},
   "outputs": [
    {
     "name": "stdout",
     "output_type": "stream",
     "text": [
      "osm:museum                          99.867865\n",
      "osm:museum:art:prehistoire           0.026427\n",
      "osm:museum:                          0.026427\n",
      "osm:museum:gender:musee de femme     0.026427\n",
      "Name: 0, dtype: float64\n"
     ]
    }
   ],
   "source": [
    "# Comment sont répartis les musées par type (en pourcentage) ?\n",
    "\n",
    "types_count = data_csv['tags'].str.split(';', expand=True)[0].value_counts() # Compter le nombre de musées par type\n",
    "\n",
    "types_percentage = types_count / len(data_csv) * 100 # Calculer le pourcentage de musées par type\n",
    "\n",
    "print(types_percentage)"
   ]
  },
  {
   "cell_type": "code",
   "execution_count": 41,
   "id": "a4d0bdfd",
   "metadata": {},
   "outputs": [
    {
     "name": "stdout",
     "output_type": "stream",
     "text": [
      "Le nombre de musées dont le nom commence par 'château' est :  57\n"
     ]
    }
   ],
   "source": [
    "# Combien y-a-t-il de musées dont le nom commence par \"Château\" ?\n",
    "\n",
    "data_csv[\"name\"] = data_csv[\"name\"].str.lower() # Convertir la colonne \"name\" en minuscules avec la méthode str.lower()\n",
    "\n",
    "chateau_museums = data_csv[data_csv[\"name\"].str.startswith(\"château\")] # Utiliser str.startswith() pour filtrer les noms de musées qui commencent par \"château\"\n",
    "\n",
    "nb_chateau_museums = chateau_museums[\"name\"].count() # Compter le nombre de résultats avec la méthode count()\n",
    "\n",
    "print(\"Le nombre de musées dont le nom commence par 'château' est : \", nb_chateau_museums)\n"
   ]
  },
  {
   "cell_type": "code",
   "execution_count": null,
   "id": "6f8c0d63",
   "metadata": {},
   "outputs": [],
   "source": []
  }
 ],
 "metadata": {
  "kernelspec": {
   "display_name": "Python 3 (ipykernel)",
   "language": "python",
   "name": "python3"
  },
  "language_info": {
   "codemirror_mode": {
    "name": "ipython",
    "version": 3
   },
   "file_extension": ".py",
   "mimetype": "text/x-python",
   "name": "python",
   "nbconvert_exporter": "python",
   "pygments_lexer": "ipython3",
   "version": "3.10.9"
  }
 },
 "nbformat": 4,
 "nbformat_minor": 5
}
